{
  "nbformat": 4,
  "nbformat_minor": 0,
  "metadata": {
    "colab": {
      "name": "FashionMnist_CNN.ipynb",
      "provenance": [],
      "collapsed_sections": [],
      "authorship_tag": "ABX9TyNemngIZNtblt5Pi0QoOOEf"
    },
    "kernelspec": {
      "name": "python3",
      "display_name": "Python 3"
    },
    "accelerator": "GPU"
  },
  "cells": [
    {
      "cell_type": "code",
      "metadata": {
        "id": "ys1cbkzOUDwM",
        "colab_type": "code",
        "colab": {}
      },
      "source": [
        "import torch\n",
        "import torchvision.datasets as dsets\n",
        "import torchvision.transforms as transforms\n",
        "import torch.nn.init\n",
        "import torchvision\n",
        "import torchvision.transforms as transforms\n",
        "import torch.optim as optim\n",
        "import time\n",
        "import torch.nn.functional as F\n",
        "import torch.nn as nn\n",
        "import matplotlib.pyplot as plt\n",
        " \n",
        "from torchvision import models"
      ],
      "execution_count": 11,
      "outputs": []
    },
    {
      "cell_type": "code",
      "metadata": {
        "id": "bW3lGtcOUKD2",
        "colab_type": "code",
        "colab": {}
      },
      "source": [
        "device = 'cuda' if torch.cuda.is_available() else 'cpu'\n",
        "\n",
        "torch.manual_seed(777)\n",
        "if device == 'cuda':\n",
        "    torch.cuda.manual_seed_all(777)"
      ],
      "execution_count": 12,
      "outputs": []
    },
    {
      "cell_type": "code",
      "metadata": {
        "id": "OsJITP-3UKGi",
        "colab_type": "code",
        "colab": {}
      },
      "source": [
        "learning_rate = 0.001\n",
        "training_epochs = 50\n",
        "batch_size = 200"
      ],
      "execution_count": 21,
      "outputs": []
    },
    {
      "cell_type": "code",
      "metadata": {
        "id": "m7kHDujiUKJK",
        "colab_type": "code",
        "colab": {}
      },
      "source": [
        "mnist_train = dsets.FashionMNIST(root='MNIST_data/',\n",
        "                          transform=transforms.ToTensor(),\n",
        "                          train=True,\n",
        "                          download=True)\n",
        "\n",
        "mnist_test = dsets.FashionMNIST(root='MNIST_data/',\n",
        "                         transform=transforms.ToTensor(),\n",
        "                         train=False,\n",
        "                         download=True)"
      ],
      "execution_count": 14,
      "outputs": []
    },
    {
      "cell_type": "code",
      "metadata": {
        "id": "bgAvKgu_UKMR",
        "colab_type": "code",
        "colab": {}
      },
      "source": [
        "# dataset loader\n",
        "train_loader = torch.utils.data.DataLoader(dataset=mnist_train,\n",
        "                                          batch_size=batch_size,\n",
        "                                          shuffle=True,\n",
        "                                          drop_last=True)\n",
        "\n",
        "test_loader = torch.utils.data.DataLoader(dataset=mnist_test,\n",
        "                                          batch_size=batch_size,\n",
        "                                          shuffle=True,\n",
        "                                          drop_last=True)\n"
      ],
      "execution_count": 22,
      "outputs": []
    },
    {
      "cell_type": "code",
      "metadata": {
        "id": "TrBk7oa3UKPH",
        "colab_type": "code",
        "colab": {}
      },
      "source": [
        "class FashionCNN(torch.nn.Module):\n",
        "    \n",
        "    def __init__(self):\n",
        "        super(FashionCNN, self).__init__()\n",
        "        \n",
        "        self.layer1 = nn.Sequential(\n",
        "            torch.nn.Conv2d(in_channels=1, out_channels=32, kernel_size=3, padding=1),\n",
        "            torch.nn.BatchNorm2d(32),\n",
        "            torch.nn.ReLU(),\n",
        "            torch.nn.MaxPool2d(kernel_size=2, stride=2)\n",
        "        )\n",
        "        \n",
        "        self.layer2 = nn.Sequential(\n",
        "            torch.nn.Conv2d(in_channels=32, out_channels=64, kernel_size=3),\n",
        "            torch.nn.BatchNorm2d(64),\n",
        "            torch.nn.ReLU(),\n",
        "            torch.nn.MaxPool2d(2)\n",
        "        )\n",
        "        \n",
        "        self.fc1 = torch.nn.Linear(in_features=64*6*6, out_features=600)\n",
        "        self.drop = torch.nn.Dropout2d(0.25)\n",
        "        self.fc2 = torch.nn.Linear(in_features=600, out_features=120,bias=True)\n",
        "        self.fc3 = torch.nn.Linear(in_features=120, out_features=10,bias=True)\n",
        "        \n",
        "    def forward(self, x):\n",
        "        out = self.layer1(x)\n",
        "        out = self.layer2(out)\n",
        "        out = out.view(out.size(0), -1)\n",
        "        out = self.fc1(out)\n",
        "        out = self.drop(out)\n",
        "        out = self.fc2(out)\n",
        "        out = self.fc3(out)\n",
        "        \n",
        "        return out"
      ],
      "execution_count": 23,
      "outputs": []
    },
    {
      "cell_type": "code",
      "metadata": {
        "id": "8-dHPzENUKUE",
        "colab_type": "code",
        "colab": {}
      },
      "source": [
        "model=FashionCNN().to(device)"
      ],
      "execution_count": 24,
      "outputs": []
    },
    {
      "cell_type": "code",
      "metadata": {
        "id": "NchsAiJ1UKW8",
        "colab_type": "code",
        "colab": {}
      },
      "source": [
        "loss = torch.nn.CrossEntropyLoss().to(device)   \n",
        "optimizer = torch.optim.Adam(model.parameters(), lr=learning_rate) \n",
        "#optimizer = torch.optim.SGD(model.parameters(), lr=learning_rate) "
      ],
      "execution_count": 25,
      "outputs": []
    },
    {
      "cell_type": "code",
      "metadata": {
        "id": "8vX0he2SUKgt",
        "colab_type": "code",
        "colab": {
          "base_uri": "https://localhost:8080/",
          "height": 953
        },
        "outputId": "23753c49-18b4-4789-feca-e6e3f0df8177"
      },
      "source": [
        "#train my model\n",
        "total_batch = len(train_loader)\n",
        "print('Learning started. It takes sometime.')\n",
        "for epoch in range(training_epochs):\n",
        "    avg_cost = 0\n",
        "\n",
        "    for X, Y in train_loader:\n",
        "        X = X.to(device)\n",
        "        Y = Y.to(device)\n",
        "\n",
        "        optimizer.zero_grad()\n",
        "        hypothesis = model(X)\n",
        "        cost = loss(hypothesis, Y)\n",
        "        cost.backward()\n",
        "        optimizer.step()\n",
        "\n",
        "        avg_cost += cost / total_batch\n",
        "\n",
        "    print('[Epoch: {:>4}] cost = {:>.9}'.format(epoch + 1, avg_cost))\n",
        "\n",
        "print('Learning Finished!')"
      ],
      "execution_count": 26,
      "outputs": [
        {
          "output_type": "stream",
          "text": [
            "Learning started. It takes sometime.\n",
            "[Epoch:    1] cost = 0.464546204\n",
            "[Epoch:    2] cost = 0.298165083\n",
            "[Epoch:    3] cost = 0.265751749\n",
            "[Epoch:    4] cost = 0.238167778\n",
            "[Epoch:    5] cost = 0.22546865\n",
            "[Epoch:    6] cost = 0.204383492\n",
            "[Epoch:    7] cost = 0.194329113\n",
            "[Epoch:    8] cost = 0.186424658\n",
            "[Epoch:    9] cost = 0.172681496\n",
            "[Epoch:   10] cost = 0.161944211\n",
            "[Epoch:   11] cost = 0.155397281\n",
            "[Epoch:   12] cost = 0.149740443\n",
            "[Epoch:   13] cost = 0.135792598\n",
            "[Epoch:   14] cost = 0.127824202\n",
            "[Epoch:   15] cost = 0.124285571\n",
            "[Epoch:   16] cost = 0.121711224\n",
            "[Epoch:   17] cost = 0.112372473\n",
            "[Epoch:   18] cost = 0.105257578\n",
            "[Epoch:   19] cost = 0.0988533199\n",
            "[Epoch:   20] cost = 0.0969537273\n",
            "[Epoch:   21] cost = 0.0910127386\n",
            "[Epoch:   22] cost = 0.0829189792\n",
            "[Epoch:   23] cost = 0.0833749995\n",
            "[Epoch:   24] cost = 0.0764121562\n",
            "[Epoch:   25] cost = 0.075586535\n",
            "[Epoch:   26] cost = 0.0785605013\n",
            "[Epoch:   27] cost = 0.0680619329\n",
            "[Epoch:   28] cost = 0.065795891\n",
            "[Epoch:   29] cost = 0.0605551824\n",
            "[Epoch:   30] cost = 0.0679375529\n",
            "[Epoch:   31] cost = 0.0543778986\n",
            "[Epoch:   32] cost = 0.0502809659\n",
            "[Epoch:   33] cost = 0.0592244826\n",
            "[Epoch:   34] cost = 0.0544249602\n",
            "[Epoch:   35] cost = 0.0497696698\n",
            "[Epoch:   36] cost = 0.0561308675\n",
            "[Epoch:   37] cost = 0.0421750359\n",
            "[Epoch:   38] cost = 0.0411418267\n",
            "[Epoch:   39] cost = 0.0429394655\n",
            "[Epoch:   40] cost = 0.0459430106\n",
            "[Epoch:   41] cost = 0.050114397\n",
            "[Epoch:   42] cost = 0.0343412608\n",
            "[Epoch:   43] cost = 0.0433606692\n",
            "[Epoch:   44] cost = 0.0350566171\n",
            "[Epoch:   45] cost = 0.0398866124\n",
            "[Epoch:   46] cost = 0.0315518118\n",
            "[Epoch:   47] cost = 0.0375983566\n",
            "[Epoch:   48] cost = 0.0279241148\n",
            "[Epoch:   49] cost = 0.0403313413\n",
            "[Epoch:   50] cost = 0.0420289859\n",
            "Learning Finished!\n"
          ],
          "name": "stdout"
        }
      ]
    },
    {
      "cell_type": "code",
      "metadata": {
        "id": "O2lVpW4yUKRu",
        "colab_type": "code",
        "colab": {
          "base_uri": "https://localhost:8080/",
          "height": 35
        },
        "outputId": "b174d3d2-b297-420c-c65b-cfd39779ce6a"
      },
      "source": [
        "accuracy = 0\n",
        "total_batch = len(test_loader)\n",
        "\n",
        "with torch.no_grad():\n",
        "  model.eval()\n",
        "\n",
        "  for X, Y in test_loader:\n",
        "    Y = Y.to(device)\n",
        "    X = X.to(device)\n",
        "\n",
        "\n",
        "    prediction = model(X)\n",
        "    correct_prediction = torch.argmax(prediction, 1) == Y\n",
        "    accuracy += correct_prediction.float().mean()\n",
        "\n",
        "print('Accuracy:', accuracy.item()/total_batch)"
      ],
      "execution_count": 28,
      "outputs": [
        {
          "output_type": "stream",
          "text": [
            "Accuracy: 0.909599838256836\n"
          ],
          "name": "stdout"
        }
      ]
    },
    {
      "cell_type": "code",
      "metadata": {
        "id": "L7vab7lbU2ko",
        "colab_type": "code",
        "colab": {}
      },
      "source": [
        ""
      ],
      "execution_count": null,
      "outputs": []
    }
  ]
}
